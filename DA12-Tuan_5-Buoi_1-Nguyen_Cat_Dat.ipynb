{
 "cells": [
  {
   "cell_type": "markdown",
   "metadata": {},
   "source": [
    "Thực hiện các yêu cầu sau với dữ liệu ‘vn_housing_dataset.csv’:\n",
    "1. Lấy ra thông tin từ các cột Diện tích, Chiều dài, chiều rộng, Giá nhà\n",
    "2. Kiểm tra các thông tin bất thường\n",
    "⇒ Loại bỏ nếu thấy bất hợp lý\n",
    "3. Chuẩn hóa thông tin (ví dụ: giá nhà với đơn vị “tỷ” thì đổi hết sang đơn vị \n",
    "“triệu”, nếu có)\n",
    "4. Lấy thêm thông tin từ cột Ngày tháng, format lại thành “Ngày_Tháng_Năm”\n",
    "5. Lưu lại dữ liệu đã làm sạch, chuẩn hóa, loại bỏ bất thường… vào file csv \n",
    "khác."
   ]
  },
  {
   "cell_type": "code",
   "execution_count": 118,
   "metadata": {},
   "outputs": [],
   "source": [
    "import pandas as pd"
   ]
  },
  {
   "cell_type": "code",
   "execution_count": 119,
   "metadata": {},
   "outputs": [],
   "source": [
    "df = pd.read_csv('VN_housing_dataset.csv')"
   ]
  },
  {
   "cell_type": "code",
   "execution_count": 120,
   "metadata": {},
   "outputs": [
    {
     "name": "stdout",
     "output_type": "stream",
     "text": [
      "<class 'pandas.core.frame.DataFrame'>\n",
      "RangeIndex: 82496 entries, 0 to 82495\n",
      "Data columns (total 13 columns):\n",
      " #   Column           Non-Null Count  Dtype \n",
      "---  ------           --------------  ----- \n",
      " 0   Unnamed: 0       82496 non-null  int64 \n",
      " 1   Ngày             82496 non-null  object\n",
      " 2   Địa chỉ          82449 non-null  object\n",
      " 3   Quận             82495 non-null  object\n",
      " 4   Huyện            82449 non-null  object\n",
      " 5   Loại hình nhà ở  82465 non-null  object\n",
      " 6   Giấy tờ pháp lý  53610 non-null  object\n",
      " 7   Số tầng          36399 non-null  object\n",
      " 8   Số phòng ngủ     82458 non-null  object\n",
      " 9   Diện tích        82495 non-null  object\n",
      " 10  Dài              19827 non-null  object\n",
      " 11  Rộng             35445 non-null  object\n",
      " 12  Giá/m2           82484 non-null  object\n",
      "dtypes: int64(1), object(12)\n",
      "memory usage: 8.2+ MB\n"
     ]
    }
   ],
   "source": [
    "df.info()"
   ]
  },
  {
   "cell_type": "code",
   "execution_count": 159,
   "metadata": {},
   "outputs": [
    {
     "data": {
      "text/html": [
       "<div>\n",
       "<style scoped>\n",
       "    .dataframe tbody tr th:only-of-type {\n",
       "        vertical-align: middle;\n",
       "    }\n",
       "\n",
       "    .dataframe tbody tr th {\n",
       "        vertical-align: top;\n",
       "    }\n",
       "\n",
       "    .dataframe thead th {\n",
       "        text-align: right;\n",
       "    }\n",
       "</style>\n",
       "<table border=\"1\" class=\"dataframe\">\n",
       "  <thead>\n",
       "    <tr style=\"text-align: right;\">\n",
       "      <th></th>\n",
       "      <th>Diện tích</th>\n",
       "      <th>Dài</th>\n",
       "      <th>Rộng</th>\n",
       "      <th>Giá/m2</th>\n",
       "    </tr>\n",
       "  </thead>\n",
       "  <tbody>\n",
       "    <tr>\n",
       "      <th>0</th>\n",
       "      <td>46 m²</td>\n",
       "      <td>NaN</td>\n",
       "      <td>NaN</td>\n",
       "      <td>86,96 triệu/m²</td>\n",
       "    </tr>\n",
       "    <tr>\n",
       "      <th>1</th>\n",
       "      <td>37 m²</td>\n",
       "      <td>NaN</td>\n",
       "      <td>NaN</td>\n",
       "      <td>116,22 triệu/m²</td>\n",
       "    </tr>\n",
       "    <tr>\n",
       "      <th>2</th>\n",
       "      <td>40 m²</td>\n",
       "      <td>10 m</td>\n",
       "      <td>4 m</td>\n",
       "      <td>65 triệu/m²</td>\n",
       "    </tr>\n",
       "    <tr>\n",
       "      <th>3</th>\n",
       "      <td>51 m²</td>\n",
       "      <td>12.75 m</td>\n",
       "      <td>4 m</td>\n",
       "      <td>100 triệu/m²</td>\n",
       "    </tr>\n",
       "    <tr>\n",
       "      <th>4</th>\n",
       "      <td>36 m²</td>\n",
       "      <td>9 m</td>\n",
       "      <td>4 m</td>\n",
       "      <td>86,11 triệu/m²</td>\n",
       "    </tr>\n",
       "    <tr>\n",
       "      <th>...</th>\n",
       "      <td>...</td>\n",
       "      <td>...</td>\n",
       "      <td>...</td>\n",
       "      <td>...</td>\n",
       "    </tr>\n",
       "    <tr>\n",
       "      <th>82491</th>\n",
       "      <td>38 m²</td>\n",
       "      <td>NaN</td>\n",
       "      <td>NaN</td>\n",
       "      <td>81,58 triệu/m²</td>\n",
       "    </tr>\n",
       "    <tr>\n",
       "      <th>82492</th>\n",
       "      <td>50 m²</td>\n",
       "      <td>NaN</td>\n",
       "      <td>NaN</td>\n",
       "      <td>292 triệu/m²</td>\n",
       "    </tr>\n",
       "    <tr>\n",
       "      <th>82493</th>\n",
       "      <td>41 m²</td>\n",
       "      <td>NaN</td>\n",
       "      <td>NaN</td>\n",
       "      <td>341,46 triệu/m²</td>\n",
       "    </tr>\n",
       "    <tr>\n",
       "      <th>82494</th>\n",
       "      <td>60 m²</td>\n",
       "      <td>NaN</td>\n",
       "      <td>NaN</td>\n",
       "      <td>101,67 triệu/m²</td>\n",
       "    </tr>\n",
       "    <tr>\n",
       "      <th>82495</th>\n",
       "      <td>45 m²</td>\n",
       "      <td>NaN</td>\n",
       "      <td>NaN</td>\n",
       "      <td>102,22 triệu/m²</td>\n",
       "    </tr>\n",
       "  </tbody>\n",
       "</table>\n",
       "<p>82484 rows × 4 columns</p>\n",
       "</div>"
      ],
      "text/plain": [
       "      Diện tích      Dài Rộng           Giá/m2\n",
       "0         46 m²      NaN  NaN   86,96 triệu/m²\n",
       "1         37 m²      NaN  NaN  116,22 triệu/m²\n",
       "2         40 m²     10 m  4 m      65 triệu/m²\n",
       "3         51 m²  12.75 m  4 m     100 triệu/m²\n",
       "4         36 m²      9 m  4 m   86,11 triệu/m²\n",
       "...         ...      ...  ...              ...\n",
       "82491     38 m²      NaN  NaN   81,58 triệu/m²\n",
       "82492     50 m²      NaN  NaN     292 triệu/m²\n",
       "82493     41 m²      NaN  NaN  341,46 triệu/m²\n",
       "82494     60 m²      NaN  NaN  101,67 triệu/m²\n",
       "82495     45 m²      NaN  NaN  102,22 triệu/m²\n",
       "\n",
       "[82484 rows x 4 columns]"
      ]
     },
     "execution_count": 159,
     "metadata": {},
     "output_type": "execute_result"
    }
   ],
   "source": [
    "df[['Diện tích','Dài','Rộng','Giá/m2']]"
   ]
  },
  {
   "cell_type": "code",
   "execution_count": 121,
   "metadata": {},
   "outputs": [],
   "source": [
    "df = df.dropna(subset=['Giá/m2'])"
   ]
  },
  {
   "cell_type": "code",
   "execution_count": 131,
   "metadata": {},
   "outputs": [
    {
     "data": {
      "text/html": [
       "<div>\n",
       "<style scoped>\n",
       "    .dataframe tbody tr th:only-of-type {\n",
       "        vertical-align: middle;\n",
       "    }\n",
       "\n",
       "    .dataframe tbody tr th {\n",
       "        vertical-align: top;\n",
       "    }\n",
       "\n",
       "    .dataframe thead th {\n",
       "        text-align: right;\n",
       "    }\n",
       "</style>\n",
       "<table border=\"1\" class=\"dataframe\">\n",
       "  <thead>\n",
       "    <tr style=\"text-align: right;\">\n",
       "      <th></th>\n",
       "      <th>Unnamed: 0</th>\n",
       "      <th>Ngày</th>\n",
       "      <th>Địa chỉ</th>\n",
       "      <th>Quận</th>\n",
       "      <th>Huyện</th>\n",
       "      <th>Loại hình nhà ở</th>\n",
       "      <th>Giấy tờ pháp lý</th>\n",
       "      <th>Số tầng</th>\n",
       "      <th>Số phòng ngủ</th>\n",
       "      <th>Diện tích</th>\n",
       "      <th>Dài</th>\n",
       "      <th>Rộng</th>\n",
       "      <th>Giá/m2</th>\n",
       "      <th>Giá nhà</th>\n",
       "      <th>Đơn vị</th>\n",
       "    </tr>\n",
       "  </thead>\n",
       "  <tbody>\n",
       "    <tr>\n",
       "      <th>0</th>\n",
       "      <td>0</td>\n",
       "      <td>2020-08-05</td>\n",
       "      <td>Đường Hoàng Quốc Việt, Phường Nghĩa Đô, Quận C...</td>\n",
       "      <td>Quận Cầu Giấy</td>\n",
       "      <td>Phường Nghĩa Đô</td>\n",
       "      <td>Nhà ngõ, hẻm</td>\n",
       "      <td>Đã có sổ</td>\n",
       "      <td>4</td>\n",
       "      <td>5 phòng</td>\n",
       "      <td>46 m²</td>\n",
       "      <td>NaN</td>\n",
       "      <td>NaN</td>\n",
       "      <td>86,96 triệu/m²</td>\n",
       "      <td>86,96</td>\n",
       "      <td>triệu</td>\n",
       "    </tr>\n",
       "    <tr>\n",
       "      <th>1</th>\n",
       "      <td>1</td>\n",
       "      <td>2020-08-05</td>\n",
       "      <td>Đường Kim Giang, Phường Kim Giang, Quận Thanh ...</td>\n",
       "      <td>Quận Thanh Xuân</td>\n",
       "      <td>Phường Kim Giang</td>\n",
       "      <td>Nhà mặt phố, mặt tiền</td>\n",
       "      <td>NaN</td>\n",
       "      <td>NaN</td>\n",
       "      <td>3 phòng</td>\n",
       "      <td>37 m²</td>\n",
       "      <td>NaN</td>\n",
       "      <td>NaN</td>\n",
       "      <td>116,22 triệu/m²</td>\n",
       "      <td>116,22</td>\n",
       "      <td>triệu</td>\n",
       "    </tr>\n",
       "    <tr>\n",
       "      <th>2</th>\n",
       "      <td>2</td>\n",
       "      <td>2020-08-05</td>\n",
       "      <td>phố minh khai, Phường Minh Khai, Quận Hai Bà T...</td>\n",
       "      <td>Quận Hai Bà Trưng</td>\n",
       "      <td>Phường Minh Khai</td>\n",
       "      <td>Nhà ngõ, hẻm</td>\n",
       "      <td>Đã có sổ</td>\n",
       "      <td>4</td>\n",
       "      <td>4 phòng</td>\n",
       "      <td>40 m²</td>\n",
       "      <td>10 m</td>\n",
       "      <td>4 m</td>\n",
       "      <td>65 triệu/m²</td>\n",
       "      <td>65</td>\n",
       "      <td>triệu</td>\n",
       "    </tr>\n",
       "    <tr>\n",
       "      <th>3</th>\n",
       "      <td>3</td>\n",
       "      <td>2020-08-05</td>\n",
       "      <td>Đường Võng Thị, Phường Thụy Khuê, Quận Tây Hồ,...</td>\n",
       "      <td>Quận Tây Hồ</td>\n",
       "      <td>Phường Thụy Khuê</td>\n",
       "      <td>Nhà ngõ, hẻm</td>\n",
       "      <td>Đã có sổ</td>\n",
       "      <td>NaN</td>\n",
       "      <td>6 phòng</td>\n",
       "      <td>51 m²</td>\n",
       "      <td>12.75 m</td>\n",
       "      <td>4 m</td>\n",
       "      <td>100 triệu/m²</td>\n",
       "      <td>100</td>\n",
       "      <td>triệu</td>\n",
       "    </tr>\n",
       "    <tr>\n",
       "      <th>4</th>\n",
       "      <td>4</td>\n",
       "      <td>2020-08-05</td>\n",
       "      <td>Đường Kim Giang, Phường Kim Giang, Quận Thanh ...</td>\n",
       "      <td>Quận Thanh Xuân</td>\n",
       "      <td>Phường Kim Giang</td>\n",
       "      <td>Nhà ngõ, hẻm</td>\n",
       "      <td>NaN</td>\n",
       "      <td>NaN</td>\n",
       "      <td>4 phòng</td>\n",
       "      <td>36 m²</td>\n",
       "      <td>9 m</td>\n",
       "      <td>4 m</td>\n",
       "      <td>86,11 triệu/m²</td>\n",
       "      <td>86,11</td>\n",
       "      <td>triệu</td>\n",
       "    </tr>\n",
       "  </tbody>\n",
       "</table>\n",
       "</div>"
      ],
      "text/plain": [
       "   Unnamed: 0        Ngày                                            Địa chỉ  \\\n",
       "0           0  2020-08-05  Đường Hoàng Quốc Việt, Phường Nghĩa Đô, Quận C...   \n",
       "1           1  2020-08-05  Đường Kim Giang, Phường Kim Giang, Quận Thanh ...   \n",
       "2           2  2020-08-05  phố minh khai, Phường Minh Khai, Quận Hai Bà T...   \n",
       "3           3  2020-08-05  Đường Võng Thị, Phường Thụy Khuê, Quận Tây Hồ,...   \n",
       "4           4  2020-08-05  Đường Kim Giang, Phường Kim Giang, Quận Thanh ...   \n",
       "\n",
       "                Quận             Huyện        Loại hình nhà ở Giấy tờ pháp lý  \\\n",
       "0      Quận Cầu Giấy   Phường Nghĩa Đô           Nhà ngõ, hẻm        Đã có sổ   \n",
       "1    Quận Thanh Xuân  Phường Kim Giang  Nhà mặt phố, mặt tiền             NaN   \n",
       "2  Quận Hai Bà Trưng  Phường Minh Khai           Nhà ngõ, hẻm        Đã có sổ   \n",
       "3        Quận Tây Hồ  Phường Thụy Khuê           Nhà ngõ, hẻm        Đã có sổ   \n",
       "4    Quận Thanh Xuân  Phường Kim Giang           Nhà ngõ, hẻm             NaN   \n",
       "\n",
       "  Số tầng Số phòng ngủ Diện tích      Dài Rộng           Giá/m2 Giá nhà Đơn vị  \n",
       "0       4      5 phòng     46 m²      NaN  NaN   86,96 triệu/m²   86,96  triệu  \n",
       "1     NaN      3 phòng     37 m²      NaN  NaN  116,22 triệu/m²  116,22  triệu  \n",
       "2       4      4 phòng     40 m²     10 m  4 m      65 triệu/m²      65  triệu  \n",
       "3     NaN      6 phòng     51 m²  12.75 m  4 m     100 triệu/m²     100  triệu  \n",
       "4     NaN      4 phòng     36 m²      9 m  4 m   86,11 triệu/m²   86,11  triệu  "
      ]
     },
     "execution_count": 131,
     "metadata": {},
     "output_type": "execute_result"
    }
   ],
   "source": [
    "df['Giá nhà'] = df['Giá/m2'].str.split(' ').str[0]\n",
    "df['Đơn vị'] = df['Giá/m2'].str.split(' ').str[1].str.split('/').str[0]\n",
    "df.head()"
   ]
  },
  {
   "cell_type": "code",
   "execution_count": 145,
   "metadata": {},
   "outputs": [
    {
     "name": "stdout",
     "output_type": "stream",
     "text": [
      "Series([], Name: Giá nhà, dtype: float64)\n"
     ]
    }
   ],
   "source": [
    "gia_nha_don_vi_dong = df.loc[df['Đơn vị'] == \"đ\", 'Giá nhà'].str.replace('.', '').astype(float)\n",
    "gia_nha_don_vi_dong = gia_nha_don_vi_dong/1000000\n",
    "df.loc[df['Đơn vị'] == \"đ\", 'Đơn vị'] = \"triệu\"\n",
    "print(gia_nha_don_vi_dong)"
   ]
  },
  {
   "cell_type": "code",
   "execution_count": 156,
   "metadata": {},
   "outputs": [
    {
     "name": "stdout",
     "output_type": "stream",
     "text": [
      "Series([], Name: Giá nhà, dtype: float64)\n"
     ]
    }
   ],
   "source": [
    "gia_nha_don_vi_ty = df.loc[df['Đơn vị'] == \"tỷ\", 'Giá nhà'].str.replace('.', '').str.replace(',', '.').astype(float)\n",
    "gia_nha_don_vi_ty = gia_nha_don_vi_ty * 1000\n",
    "df.loc[df['Đơn vị'] == \"tỷ\", 'Đơn vị'] = \"triệu\"\n",
    "print(gia_nha_don_vi_ty)"
   ]
  },
  {
   "cell_type": "code",
   "execution_count": 157,
   "metadata": {},
   "outputs": [
    {
     "name": "stdout",
     "output_type": "stream",
     "text": [
      "['triệu']\n"
     ]
    }
   ],
   "source": [
    "unique_values = df['Đơn vị'].unique()\n",
    "print(unique_values)"
   ]
  }
 ],
 "metadata": {
  "kernelspec": {
   "display_name": "Python 3",
   "language": "python",
   "name": "python3"
  },
  "language_info": {
   "codemirror_mode": {
    "name": "ipython",
    "version": 3
   },
   "file_extension": ".py",
   "mimetype": "text/x-python",
   "name": "python",
   "nbconvert_exporter": "python",
   "pygments_lexer": "ipython3",
   "version": "3.12.0"
  }
 },
 "nbformat": 4,
 "nbformat_minor": 2
}
