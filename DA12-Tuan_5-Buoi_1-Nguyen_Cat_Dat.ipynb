{
 "cells": [
  {
   "cell_type": "markdown",
   "metadata": {},
   "source": [
    "Thực hiện các yêu cầu sau với dữ liệu ‘vn_housing_dataset.csv’:\n",
    "1. Lấy ra thông tin từ các cột Diện tích, Chiều dài, chiều rộng, Giá nhà\n",
    "2. Kiểm tra các thông tin bất thường\n",
    "⇒ Loại bỏ nếu thấy bất hợp lý\n",
    "3. Chuẩn hóa thông tin (ví dụ: giá nhà với đơn vị “tỷ” thì đổi hết sang đơn vị \n",
    "“triệu”, nếu có)\n",
    "4. Lấy thêm thông tin từ cột Ngày tháng, format lại thành “Ngày_Tháng_Năm”\n",
    "5. Lưu lại dữ liệu đã làm sạch, chuẩn hóa, loại bỏ bất thường… vào file csv \n",
    "khác."
   ]
  },
  {
   "cell_type": "code",
   "execution_count": 263,
   "metadata": {},
   "outputs": [],
   "source": [
    "import pandas as pd"
   ]
  },
  {
   "cell_type": "code",
   "execution_count": 264,
   "metadata": {},
   "outputs": [
    {
     "name": "stdout",
     "output_type": "stream",
     "text": [
      "<class 'pandas.core.frame.DataFrame'>\n",
      "RangeIndex: 82496 entries, 0 to 82495\n",
      "Data columns (total 13 columns):\n",
      " #   Column           Non-Null Count  Dtype \n",
      "---  ------           --------------  ----- \n",
      " 0   Unnamed: 0       82496 non-null  int64 \n",
      " 1   Ngày             82496 non-null  object\n",
      " 2   Địa chỉ          82449 non-null  object\n",
      " 3   Quận             82495 non-null  object\n",
      " 4   Huyện            82449 non-null  object\n",
      " 5   Loại hình nhà ở  82465 non-null  object\n",
      " 6   Giấy tờ pháp lý  53610 non-null  object\n",
      " 7   Số tầng          36399 non-null  object\n",
      " 8   Số phòng ngủ     82458 non-null  object\n",
      " 9   Diện tích        82495 non-null  object\n",
      " 10  Dài              19827 non-null  object\n",
      " 11  Rộng             35445 non-null  object\n",
      " 12  Giá/m2           82484 non-null  object\n",
      "dtypes: int64(1), object(12)\n",
      "memory usage: 8.2+ MB\n"
     ]
    }
   ],
   "source": [
    "# Đọc file csv\n",
    "df = pd.read_csv('VN_housing_dataset.csv')\n",
    "df.info()"
   ]
  },
  {
   "cell_type": "code",
   "execution_count": 265,
   "metadata": {},
   "outputs": [
    {
     "data": {
      "text/html": [
       "<div>\n",
       "<style scoped>\n",
       "    .dataframe tbody tr th:only-of-type {\n",
       "        vertical-align: middle;\n",
       "    }\n",
       "\n",
       "    .dataframe tbody tr th {\n",
       "        vertical-align: top;\n",
       "    }\n",
       "\n",
       "    .dataframe thead th {\n",
       "        text-align: right;\n",
       "    }\n",
       "</style>\n",
       "<table border=\"1\" class=\"dataframe\">\n",
       "  <thead>\n",
       "    <tr style=\"text-align: right;\">\n",
       "      <th></th>\n",
       "      <th>Diện tích</th>\n",
       "      <th>Dài</th>\n",
       "      <th>Rộng</th>\n",
       "      <th>Giá/m2</th>\n",
       "    </tr>\n",
       "  </thead>\n",
       "  <tbody>\n",
       "    <tr>\n",
       "      <th>0</th>\n",
       "      <td>46 m²</td>\n",
       "      <td>NaN</td>\n",
       "      <td>NaN</td>\n",
       "      <td>86,96 triệu/m²</td>\n",
       "    </tr>\n",
       "    <tr>\n",
       "      <th>1</th>\n",
       "      <td>37 m²</td>\n",
       "      <td>NaN</td>\n",
       "      <td>NaN</td>\n",
       "      <td>116,22 triệu/m²</td>\n",
       "    </tr>\n",
       "    <tr>\n",
       "      <th>2</th>\n",
       "      <td>40 m²</td>\n",
       "      <td>10 m</td>\n",
       "      <td>4 m</td>\n",
       "      <td>65 triệu/m²</td>\n",
       "    </tr>\n",
       "    <tr>\n",
       "      <th>3</th>\n",
       "      <td>51 m²</td>\n",
       "      <td>12.75 m</td>\n",
       "      <td>4 m</td>\n",
       "      <td>100 triệu/m²</td>\n",
       "    </tr>\n",
       "    <tr>\n",
       "      <th>4</th>\n",
       "      <td>36 m²</td>\n",
       "      <td>9 m</td>\n",
       "      <td>4 m</td>\n",
       "      <td>86,11 triệu/m²</td>\n",
       "    </tr>\n",
       "    <tr>\n",
       "      <th>...</th>\n",
       "      <td>...</td>\n",
       "      <td>...</td>\n",
       "      <td>...</td>\n",
       "      <td>...</td>\n",
       "    </tr>\n",
       "    <tr>\n",
       "      <th>82491</th>\n",
       "      <td>38 m²</td>\n",
       "      <td>NaN</td>\n",
       "      <td>NaN</td>\n",
       "      <td>81,58 triệu/m²</td>\n",
       "    </tr>\n",
       "    <tr>\n",
       "      <th>82492</th>\n",
       "      <td>50 m²</td>\n",
       "      <td>NaN</td>\n",
       "      <td>NaN</td>\n",
       "      <td>292 triệu/m²</td>\n",
       "    </tr>\n",
       "    <tr>\n",
       "      <th>82493</th>\n",
       "      <td>41 m²</td>\n",
       "      <td>NaN</td>\n",
       "      <td>NaN</td>\n",
       "      <td>341,46 triệu/m²</td>\n",
       "    </tr>\n",
       "    <tr>\n",
       "      <th>82494</th>\n",
       "      <td>60 m²</td>\n",
       "      <td>NaN</td>\n",
       "      <td>NaN</td>\n",
       "      <td>101,67 triệu/m²</td>\n",
       "    </tr>\n",
       "    <tr>\n",
       "      <th>82495</th>\n",
       "      <td>45 m²</td>\n",
       "      <td>NaN</td>\n",
       "      <td>NaN</td>\n",
       "      <td>102,22 triệu/m²</td>\n",
       "    </tr>\n",
       "  </tbody>\n",
       "</table>\n",
       "<p>82496 rows × 4 columns</p>\n",
       "</div>"
      ],
      "text/plain": [
       "      Diện tích      Dài Rộng           Giá/m2\n",
       "0         46 m²      NaN  NaN   86,96 triệu/m²\n",
       "1         37 m²      NaN  NaN  116,22 triệu/m²\n",
       "2         40 m²     10 m  4 m      65 triệu/m²\n",
       "3         51 m²  12.75 m  4 m     100 triệu/m²\n",
       "4         36 m²      9 m  4 m   86,11 triệu/m²\n",
       "...         ...      ...  ...              ...\n",
       "82491     38 m²      NaN  NaN   81,58 triệu/m²\n",
       "82492     50 m²      NaN  NaN     292 triệu/m²\n",
       "82493     41 m²      NaN  NaN  341,46 triệu/m²\n",
       "82494     60 m²      NaN  NaN  101,67 triệu/m²\n",
       "82495     45 m²      NaN  NaN  102,22 triệu/m²\n",
       "\n",
       "[82496 rows x 4 columns]"
      ]
     },
     "execution_count": 265,
     "metadata": {},
     "output_type": "execute_result"
    }
   ],
   "source": [
    "#Lấy ra thông tin từ các cột Diện tích, Chiều dài, chiều rộng, Giá nhà\n",
    "df[['Diện tích','Dài','Rộng','Giá/m2']]"
   ]
  },
  {
   "cell_type": "code",
   "execution_count": 266,
   "metadata": {},
   "outputs": [
    {
     "name": "stdout",
     "output_type": "stream",
     "text": [
      "          Giá Đơn vị\n",
      "0       86,96  triệu\n",
      "1      116,22  triệu\n",
      "2          65  triệu\n",
      "3         100  triệu\n",
      "4       86,11  triệu\n",
      "...       ...    ...\n",
      "82491   81,58  triệu\n",
      "82492     292  triệu\n",
      "82493  341,46  triệu\n",
      "82494  101,67  triệu\n",
      "82495  102,22  triệu\n",
      "\n",
      "[82496 rows x 2 columns]\n",
      "['triệu' 'đ' 'tỷ' nan]\n"
     ]
    }
   ],
   "source": [
    "# Tách cột \"Giá/m2\" thành hai cột \"Giá\" và \"Đơn vị\"\n",
    "df[[\"Giá\", \"Đơn vị\"]] = df[\"Giá/m2\"].str.split(\" \", expand=True)\n",
    "df[\"Đơn vị\"] = df[\"Đơn vị\"].str.split('/').str[0]\n",
    "# In kết quả\n",
    "print(df[[\"Giá\", \"Đơn vị\"]])\n",
    "print(df[\"Đơn vị\"].unique())"
   ]
  },
  {
   "cell_type": "code",
   "execution_count": 267,
   "metadata": {},
   "outputs": [
    {
     "name": "stdout",
     "output_type": "stream",
     "text": [
      "<class 'pandas.core.frame.DataFrame'>\n",
      "Index: 82484 entries, 0 to 82495\n",
      "Data columns (total 15 columns):\n",
      " #   Column           Non-Null Count  Dtype \n",
      "---  ------           --------------  ----- \n",
      " 0   Unnamed: 0       82484 non-null  int64 \n",
      " 1   Ngày             82484 non-null  object\n",
      " 2   Địa chỉ          82437 non-null  object\n",
      " 3   Quận             82483 non-null  object\n",
      " 4   Huyện            82437 non-null  object\n",
      " 5   Loại hình nhà ở  82453 non-null  object\n",
      " 6   Giấy tờ pháp lý  53602 non-null  object\n",
      " 7   Số tầng          36395 non-null  object\n",
      " 8   Số phòng ngủ     82446 non-null  object\n",
      " 9   Diện tích        82484 non-null  object\n",
      " 10  Dài              19823 non-null  object\n",
      " 11  Rộng             35439 non-null  object\n",
      " 12  Giá/m2           82484 non-null  object\n",
      " 13  Giá              82484 non-null  object\n",
      " 14  Đơn vị           82484 non-null  object\n",
      "dtypes: int64(1), object(14)\n",
      "memory usage: 10.1+ MB\n"
     ]
    }
   ],
   "source": [
    "# Xóa các hàng có giá trị null trong cột \"Giá/m2\" khỏi dataframe\n",
    "df.dropna(subset=['Giá/m2'], inplace=True)\n",
    "df.info()"
   ]
  },
  {
   "cell_type": "code",
   "execution_count": 268,
   "metadata": {},
   "outputs": [
    {
     "name": "stdout",
     "output_type": "stream",
     "text": [
      "<class 'pandas.core.frame.DataFrame'>\n",
      "Index: 82484 entries, 0 to 82495\n",
      "Data columns (total 15 columns):\n",
      " #   Column           Non-Null Count  Dtype  \n",
      "---  ------           --------------  -----  \n",
      " 0   Unnamed: 0       82484 non-null  int64  \n",
      " 1   Ngày             82484 non-null  object \n",
      " 2   Địa chỉ          82437 non-null  object \n",
      " 3   Quận             82483 non-null  object \n",
      " 4   Huyện            82437 non-null  object \n",
      " 5   Loại hình nhà ở  82453 non-null  object \n",
      " 6   Giấy tờ pháp lý  53602 non-null  object \n",
      " 7   Số tầng          36395 non-null  object \n",
      " 8   Số phòng ngủ     82446 non-null  object \n",
      " 9   Diện tích        82484 non-null  object \n",
      " 10  Dài              19823 non-null  object \n",
      " 11  Rộng             35439 non-null  object \n",
      " 12  Giá/m2           82484 non-null  object \n",
      " 13  Giá              82484 non-null  float64\n",
      " 14  Đơn vị           82484 non-null  object \n",
      "dtypes: float64(1), int64(1), object(13)\n",
      "memory usage: 10.1+ MB\n",
      "['triệu']\n"
     ]
    }
   ],
   "source": [
    "df[\"Giá\"] = df[\"Giá\"].str.replace('.', '').str.replace(',', '.').astype('float')\n",
    "df.loc[df[\"Đơn vị\"] == \"tỷ\", \"Giá\"] *= 1000\n",
    "df.loc[df[\"Đơn vị\"] == \"đ\", \"Giá\"] /= 1000000\n",
    "df[\"Đơn vị\"] = \"triệu\"\n",
    "df.info()\n",
    "print(df['Đơn vị'].unique())"
   ]
  }
 ],
 "metadata": {
  "kernelspec": {
   "display_name": "Python 3",
   "language": "python",
   "name": "python3"
  },
  "language_info": {
   "codemirror_mode": {
    "name": "ipython",
    "version": 3
   },
   "file_extension": ".py",
   "mimetype": "text/x-python",
   "name": "python",
   "nbconvert_exporter": "python",
   "pygments_lexer": "ipython3",
   "version": "3.12.0"
  }
 },
 "nbformat": 4,
 "nbformat_minor": 2
}
